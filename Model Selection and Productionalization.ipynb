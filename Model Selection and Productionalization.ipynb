{
 "cells": [
  {
   "cell_type": "code",
   "execution_count": 1,
   "id": "548f2214",
   "metadata": {},
   "outputs": [],
   "source": [
    "# import the necessary libraries \n",
    "import numpy as np \n",
    "import pandas as pd \n",
    "import matplotlib.pyplot as plt \n",
    "import seaborn as sns\n",
    "\n",
    "from sklearn.compose import ColumnTransformer\n",
    "from sklearn.preprocessing import StandardScaler, OrdinalEncoder, OneHotEncoder\n",
    "from sklearn.model_selection import train_test_split\n",
    "from sklearn.metrics import accuracy_score, r2_score, mean_absolute_error\n",
    "from sklearn.pipeline import Pipeline\n",
    "from sklearn.linear_model import LinearRegression, Ridge, Lasso\n",
    "from sklearn.model_selection import KFold, cross_val_score\n",
    "from sklearn.ensemble import RandomForestRegressor, ExtraTreesRegressor, GradientBoostingRegressor, AdaBoostRegressor\n",
    "from xgboost import XGBRegressor\n",
    "from sklearn.tree import DecisionTreeRegressor\n",
    "from sklearn.svm import SVR\n",
    "from sklearn.neural_network import MLPRegressor\n",
    "from sklearn.decomposition import PCA"
   ]
  },
  {
   "cell_type": "code",
   "execution_count": 2,
   "id": "ecd10e8f",
   "metadata": {},
   "outputs": [
    {
     "data": {
      "text/html": [
       "<div>\n",
       "<style scoped>\n",
       "    .dataframe tbody tr th:only-of-type {\n",
       "        vertical-align: middle;\n",
       "    }\n",
       "\n",
       "    .dataframe tbody tr th {\n",
       "        vertical-align: top;\n",
       "    }\n",
       "\n",
       "    .dataframe thead th {\n",
       "        text-align: right;\n",
       "    }\n",
       "</style>\n",
       "<table border=\"1\" class=\"dataframe\">\n",
       "  <thead>\n",
       "    <tr style=\"text-align: right;\">\n",
       "      <th></th>\n",
       "      <th>property_type</th>\n",
       "      <th>sector</th>\n",
       "      <th>price</th>\n",
       "      <th>bedRoom</th>\n",
       "      <th>bathroom</th>\n",
       "      <th>balcony</th>\n",
       "      <th>agePossession</th>\n",
       "      <th>built_up_area</th>\n",
       "      <th>servant room</th>\n",
       "      <th>store room</th>\n",
       "      <th>furnishing_type</th>\n",
       "      <th>luxury_category</th>\n",
       "      <th>floor_category</th>\n",
       "    </tr>\n",
       "  </thead>\n",
       "  <tbody>\n",
       "    <tr>\n",
       "      <th>0</th>\n",
       "      <td>flat</td>\n",
       "      <td>sector 36</td>\n",
       "      <td>0.82</td>\n",
       "      <td>3.0</td>\n",
       "      <td>2.0</td>\n",
       "      <td>2</td>\n",
       "      <td>New Property</td>\n",
       "      <td>850.0</td>\n",
       "      <td>0.0</td>\n",
       "      <td>0.0</td>\n",
       "      <td>0.0</td>\n",
       "      <td>Low</td>\n",
       "      <td>Low Floor</td>\n",
       "    </tr>\n",
       "    <tr>\n",
       "      <th>1</th>\n",
       "      <td>flat</td>\n",
       "      <td>sector 89</td>\n",
       "      <td>0.95</td>\n",
       "      <td>2.0</td>\n",
       "      <td>2.0</td>\n",
       "      <td>2</td>\n",
       "      <td>New Property</td>\n",
       "      <td>1226.0</td>\n",
       "      <td>1.0</td>\n",
       "      <td>0.0</td>\n",
       "      <td>0.0</td>\n",
       "      <td>Low</td>\n",
       "      <td>Mid Floor</td>\n",
       "    </tr>\n",
       "    <tr>\n",
       "      <th>2</th>\n",
       "      <td>flat</td>\n",
       "      <td>sohna road</td>\n",
       "      <td>0.32</td>\n",
       "      <td>2.0</td>\n",
       "      <td>2.0</td>\n",
       "      <td>1</td>\n",
       "      <td>New Property</td>\n",
       "      <td>1000.0</td>\n",
       "      <td>0.0</td>\n",
       "      <td>0.0</td>\n",
       "      <td>0.0</td>\n",
       "      <td>Low</td>\n",
       "      <td>High Floor</td>\n",
       "    </tr>\n",
       "    <tr>\n",
       "      <th>3</th>\n",
       "      <td>flat</td>\n",
       "      <td>sector 92</td>\n",
       "      <td>1.60</td>\n",
       "      <td>3.0</td>\n",
       "      <td>4.0</td>\n",
       "      <td>3+</td>\n",
       "      <td>Relatively New</td>\n",
       "      <td>1615.0</td>\n",
       "      <td>1.0</td>\n",
       "      <td>0.0</td>\n",
       "      <td>1.0</td>\n",
       "      <td>High</td>\n",
       "      <td>Mid Floor</td>\n",
       "    </tr>\n",
       "    <tr>\n",
       "      <th>4</th>\n",
       "      <td>flat</td>\n",
       "      <td>sector 102</td>\n",
       "      <td>0.48</td>\n",
       "      <td>2.0</td>\n",
       "      <td>2.0</td>\n",
       "      <td>1</td>\n",
       "      <td>Relatively New</td>\n",
       "      <td>582.0</td>\n",
       "      <td>0.0</td>\n",
       "      <td>1.0</td>\n",
       "      <td>0.0</td>\n",
       "      <td>High</td>\n",
       "      <td>Mid Floor</td>\n",
       "    </tr>\n",
       "  </tbody>\n",
       "</table>\n",
       "</div>"
      ],
      "text/plain": [
       "  property_type      sector  price  bedRoom  bathroom balcony   agePossession  \\\n",
       "0          flat   sector 36   0.82      3.0       2.0       2    New Property   \n",
       "1          flat   sector 89   0.95      2.0       2.0       2    New Property   \n",
       "2          flat  sohna road   0.32      2.0       2.0       1    New Property   \n",
       "3          flat   sector 92   1.60      3.0       4.0      3+  Relatively New   \n",
       "4          flat  sector 102   0.48      2.0       2.0       1  Relatively New   \n",
       "\n",
       "   built_up_area  servant room  store room  furnishing_type luxury_category  \\\n",
       "0          850.0           0.0         0.0              0.0             Low   \n",
       "1         1226.0           1.0         0.0              0.0             Low   \n",
       "2         1000.0           0.0         0.0              0.0             Low   \n",
       "3         1615.0           1.0         0.0              1.0            High   \n",
       "4          582.0           0.0         1.0              0.0            High   \n",
       "\n",
       "  floor_category  \n",
       "0      Low Floor  \n",
       "1      Mid Floor  \n",
       "2     High Floor  \n",
       "3      Mid Floor  \n",
       "4      Mid Floor  "
      ]
     },
     "execution_count": 2,
     "metadata": {},
     "output_type": "execute_result"
    }
   ],
   "source": [
    "df = pd.read_csv(\"Datasets/gurgaon_properties_post_feature_selection_v2.csv\")\n",
    "df.head()"
   ]
  },
  {
   "cell_type": "code",
   "execution_count": 51,
   "id": "064657cc",
   "metadata": {},
   "outputs": [
    {
     "data": {
      "text/plain": [
       "0.0    2349\n",
       "1.0    1018\n",
       "2.0     187\n",
       "Name: furnishing_type, dtype: int64"
      ]
     },
     "execution_count": 51,
     "metadata": {},
     "output_type": "execute_result"
    }
   ],
   "source": [
    "df[\"furnishing_type\"].value_counts()\n",
    "\n",
    "# 0: unfurnished \n",
    "# 1: semifurnished\n",
    "# 2: furnished "
   ]
  },
  {
   "cell_type": "code",
   "execution_count": 52,
   "id": "e12f6e96",
   "metadata": {},
   "outputs": [],
   "source": [
    "# convert the furnishing_type column to again categorical (as we can done the encoding into ml pipeline also)\n",
    "df[\"furnishing_type\"] = df[\"furnishing_type\"].replace({0.0: \"unfurnished\", 1.0: \"semifurnished\", 2.0: \"furnished\"})"
   ]
  },
  {
   "cell_type": "code",
   "execution_count": 53,
   "id": "8b8149fb",
   "metadata": {},
   "outputs": [
    {
     "data": {
      "text/html": [
       "<div>\n",
       "<style scoped>\n",
       "    .dataframe tbody tr th:only-of-type {\n",
       "        vertical-align: middle;\n",
       "    }\n",
       "\n",
       "    .dataframe tbody tr th {\n",
       "        vertical-align: top;\n",
       "    }\n",
       "\n",
       "    .dataframe thead th {\n",
       "        text-align: right;\n",
       "    }\n",
       "</style>\n",
       "<table border=\"1\" class=\"dataframe\">\n",
       "  <thead>\n",
       "    <tr style=\"text-align: right;\">\n",
       "      <th></th>\n",
       "      <th>property_type</th>\n",
       "      <th>sector</th>\n",
       "      <th>price</th>\n",
       "      <th>bedRoom</th>\n",
       "      <th>bathroom</th>\n",
       "      <th>balcony</th>\n",
       "      <th>agePossession</th>\n",
       "      <th>built_up_area</th>\n",
       "      <th>servant room</th>\n",
       "      <th>store room</th>\n",
       "      <th>furnishing_type</th>\n",
       "      <th>luxury_category</th>\n",
       "      <th>floor_category</th>\n",
       "    </tr>\n",
       "  </thead>\n",
       "  <tbody>\n",
       "    <tr>\n",
       "      <th>0</th>\n",
       "      <td>flat</td>\n",
       "      <td>sector 36</td>\n",
       "      <td>0.82</td>\n",
       "      <td>3.0</td>\n",
       "      <td>2.0</td>\n",
       "      <td>2</td>\n",
       "      <td>New Property</td>\n",
       "      <td>850.0</td>\n",
       "      <td>0.0</td>\n",
       "      <td>0.0</td>\n",
       "      <td>unfurnished</td>\n",
       "      <td>Low</td>\n",
       "      <td>Low Floor</td>\n",
       "    </tr>\n",
       "    <tr>\n",
       "      <th>1</th>\n",
       "      <td>flat</td>\n",
       "      <td>sector 89</td>\n",
       "      <td>0.95</td>\n",
       "      <td>2.0</td>\n",
       "      <td>2.0</td>\n",
       "      <td>2</td>\n",
       "      <td>New Property</td>\n",
       "      <td>1226.0</td>\n",
       "      <td>1.0</td>\n",
       "      <td>0.0</td>\n",
       "      <td>unfurnished</td>\n",
       "      <td>Low</td>\n",
       "      <td>Mid Floor</td>\n",
       "    </tr>\n",
       "    <tr>\n",
       "      <th>2</th>\n",
       "      <td>flat</td>\n",
       "      <td>sohna road</td>\n",
       "      <td>0.32</td>\n",
       "      <td>2.0</td>\n",
       "      <td>2.0</td>\n",
       "      <td>1</td>\n",
       "      <td>New Property</td>\n",
       "      <td>1000.0</td>\n",
       "      <td>0.0</td>\n",
       "      <td>0.0</td>\n",
       "      <td>unfurnished</td>\n",
       "      <td>Low</td>\n",
       "      <td>High Floor</td>\n",
       "    </tr>\n",
       "    <tr>\n",
       "      <th>3</th>\n",
       "      <td>flat</td>\n",
       "      <td>sector 92</td>\n",
       "      <td>1.60</td>\n",
       "      <td>3.0</td>\n",
       "      <td>4.0</td>\n",
       "      <td>3+</td>\n",
       "      <td>Relatively New</td>\n",
       "      <td>1615.0</td>\n",
       "      <td>1.0</td>\n",
       "      <td>0.0</td>\n",
       "      <td>semifurnished</td>\n",
       "      <td>High</td>\n",
       "      <td>Mid Floor</td>\n",
       "    </tr>\n",
       "    <tr>\n",
       "      <th>4</th>\n",
       "      <td>flat</td>\n",
       "      <td>sector 102</td>\n",
       "      <td>0.48</td>\n",
       "      <td>2.0</td>\n",
       "      <td>2.0</td>\n",
       "      <td>1</td>\n",
       "      <td>Relatively New</td>\n",
       "      <td>582.0</td>\n",
       "      <td>0.0</td>\n",
       "      <td>1.0</td>\n",
       "      <td>unfurnished</td>\n",
       "      <td>High</td>\n",
       "      <td>Mid Floor</td>\n",
       "    </tr>\n",
       "  </tbody>\n",
       "</table>\n",
       "</div>"
      ],
      "text/plain": [
       "  property_type      sector  price  bedRoom  bathroom balcony   agePossession  \\\n",
       "0          flat   sector 36   0.82      3.0       2.0       2    New Property   \n",
       "1          flat   sector 89   0.95      2.0       2.0       2    New Property   \n",
       "2          flat  sohna road   0.32      2.0       2.0       1    New Property   \n",
       "3          flat   sector 92   1.60      3.0       4.0      3+  Relatively New   \n",
       "4          flat  sector 102   0.48      2.0       2.0       1  Relatively New   \n",
       "\n",
       "   built_up_area  servant room  store room furnishing_type luxury_category  \\\n",
       "0          850.0           0.0         0.0     unfurnished             Low   \n",
       "1         1226.0           1.0         0.0     unfurnished             Low   \n",
       "2         1000.0           0.0         0.0     unfurnished             Low   \n",
       "3         1615.0           1.0         0.0   semifurnished            High   \n",
       "4          582.0           0.0         1.0     unfurnished            High   \n",
       "\n",
       "  floor_category  \n",
       "0      Low Floor  \n",
       "1      Mid Floor  \n",
       "2     High Floor  \n",
       "3      Mid Floor  \n",
       "4      Mid Floor  "
      ]
     },
     "execution_count": 53,
     "metadata": {},
     "output_type": "execute_result"
    }
   ],
   "source": [
    "df.head()"
   ]
  },
  {
   "cell_type": "code",
   "execution_count": 54,
   "id": "97ada63e",
   "metadata": {},
   "outputs": [],
   "source": [
    "# Split the data into X and y \n",
    "X = df.drop(columns=[\"price\"])\n",
    "y = df[\"price\"]"
   ]
  },
  {
   "cell_type": "code",
   "execution_count": 55,
   "id": "c0eea444",
   "metadata": {},
   "outputs": [],
   "source": [
    "# as the output column(price) is right skewed, apply the log transformation \n",
    "y_transformed = np.log1p(y)"
   ]
  },
  {
   "cell_type": "markdown",
   "id": "23f1701d",
   "metadata": {},
   "source": [
    "## Encoding Techniques \n",
    "#### Converting categorical columns into numerical columns \n",
    "* 1. Ordinal Encoding \n",
    "    * Works well with tree based models (as there is no concept of order(weight) i.e 0 < 1 so 1 has higher order)\n",
    "* 2. One Hot Encoding  \n",
    "    * generally works well with linear models \n",
    "* 3. Target Encoding \n",
    "    * works well with tree based models"
   ]
  },
  {
   "cell_type": "markdown",
   "id": "ddc1c531",
   "metadata": {},
   "source": [
    "### Ordinal Encoding \n",
    "* assign the integer value to each category \n",
    "    * for ex.: there is sector column in our dataset, so it assigns the integer value to each of the sector like 0, 1, 2, etc.\n",
    "    "
   ]
  },
  {
   "cell_type": "code",
   "execution_count": 56,
   "id": "e8fb0118",
   "metadata": {},
   "outputs": [
    {
     "data": {
      "text/plain": [
       "Index(['property_type', 'sector', 'price', 'bedRoom', 'bathroom', 'balcony',\n",
       "       'agePossession', 'built_up_area', 'servant room', 'store room',\n",
       "       'furnishing_type', 'luxury_category', 'floor_category'],\n",
       "      dtype='object')"
      ]
     },
     "execution_count": 56,
     "metadata": {},
     "output_type": "execute_result"
    }
   ],
   "source": [
    "df.columns"
   ]
  },
  {
   "cell_type": "code",
   "execution_count": 57,
   "id": "119024aa",
   "metadata": {},
   "outputs": [],
   "source": [
    "columns_to_encode = ['property_type','sector', 'balcony', 'agePossession', 'furnishing_type', 'luxury_category', 'floor_category']"
   ]
  },
  {
   "cell_type": "code",
   "execution_count": 58,
   "id": "27946e14",
   "metadata": {},
   "outputs": [
    {
     "data": {
      "text/plain": [
       "ColumnTransformer(remainder='passthrough',\n",
       "                  transformers=[('num', StandardScaler(),\n",
       "                                 ['bedRoom', 'bathroom', 'built_up_area',\n",
       "                                  'servant room', 'store room']),\n",
       "                                ('cat', OrdinalEncoder(),\n",
       "                                 ['property_type', 'sector', 'balcony',\n",
       "                                  'agePossession', 'furnishing_type',\n",
       "                                  'luxury_category', 'floor_category'])])"
      ]
     },
     "execution_count": 58,
     "metadata": {},
     "output_type": "execute_result"
    }
   ],
   "source": [
    "# Creating a column transformer for preprocessing \n",
    "preprocessor = ColumnTransformer(\n",
    "    transformers=[\n",
    "        # scaling down the numerical columns\n",
    "        (\"num\", StandardScaler(), ['bedRoom', 'bathroom', 'built_up_area', 'servant room', 'store room']),\n",
    "        # applying the ordinal encoding to the categorical columns\n",
    "        (\"cat\", OrdinalEncoder(), columns_to_encode)\n",
    "    ],\n",
    "    # parameters that are not mention in the columntransformer will pass through without any transformation\n",
    "    remainder = \"passthrough\" \n",
    ")\n",
    "\n",
    "preprocessor"
   ]
  },
  {
   "cell_type": "code",
   "execution_count": 59,
   "id": "b8210bf1",
   "metadata": {},
   "outputs": [
    {
     "data": {
      "text/plain": [
       "Pipeline(steps=[('preprocessor',\n",
       "                 ColumnTransformer(remainder='passthrough',\n",
       "                                   transformers=[('num', StandardScaler(),\n",
       "                                                  ['bedRoom', 'bathroom',\n",
       "                                                   'built_up_area',\n",
       "                                                   'servant room',\n",
       "                                                   'store room']),\n",
       "                                                 ('cat', OrdinalEncoder(),\n",
       "                                                  ['property_type', 'sector',\n",
       "                                                   'balcony', 'agePossession',\n",
       "                                                   'furnishing_type',\n",
       "                                                   'luxury_category',\n",
       "                                                   'floor_category'])])),\n",
       "                ('regressor', LinearRegression())])"
      ]
     },
     "execution_count": 59,
     "metadata": {},
     "output_type": "execute_result"
    }
   ],
   "source": [
    "# Creating the pipeline \n",
    "pipeline = Pipeline([\n",
    "    (\"preprocessor\", preprocessor),\n",
    "    (\"regressor\", LinearRegression())\n",
    "])\n",
    "\n",
    "pipeline"
   ]
  },
  {
   "cell_type": "code",
   "execution_count": 60,
   "id": "12f7ac2d",
   "metadata": {},
   "outputs": [],
   "source": [
    "# Apply the K-fold cross validation \n",
    "kfold = KFold(n_splits=10, shuffle=True, random_state=42)\n",
    "scores = cross_val_score(pipeline, X, y_transformed, cv=kfold, scoring=\"r2\")"
   ]
  },
  {
   "cell_type": "code",
   "execution_count": 61,
   "id": "28b6925a",
   "metadata": {},
   "outputs": [
    {
     "data": {
      "text/plain": [
       "array([0.7112841 , 0.75780656, 0.75338985, 0.75435482, 0.7495126 ,\n",
       "       0.68068362, 0.79641346, 0.72883971, 0.69340419, 0.73740773])"
      ]
     },
     "execution_count": 61,
     "metadata": {},
     "output_type": "execute_result"
    }
   ],
   "source": [
    "scores"
   ]
  },
  {
   "cell_type": "code",
   "execution_count": 62,
   "id": "f8816671",
   "metadata": {},
   "outputs": [
    {
     "data": {
      "text/plain": [
       "(0.7363096633436828, 0.03238005754429927)"
      ]
     },
     "execution_count": 62,
     "metadata": {},
     "output_type": "execute_result"
    }
   ],
   "source": [
    "scores.mean(), scores.std()"
   ]
  },
  {
   "cell_type": "code",
   "execution_count": 63,
   "id": "cd49dafb",
   "metadata": {},
   "outputs": [],
   "source": [
    "# Split the data into train and test sets \n",
    "X_train, X_test, y_train, y_test = train_test_split(X,\n",
    "                                                    y_transformed,\n",
    "                                                    test_size=0.2, random_state=42)"
   ]
  },
  {
   "cell_type": "code",
   "execution_count": 64,
   "id": "107a9cf4",
   "metadata": {},
   "outputs": [
    {
     "data": {
      "text/plain": [
       "((2843, 12), (711, 12), (2843,), (711,))"
      ]
     },
     "execution_count": 64,
     "metadata": {},
     "output_type": "execute_result"
    }
   ],
   "source": [
    "X_train.shape, X_test.shape, y_train.shape, y_test.shape"
   ]
  },
  {
   "cell_type": "code",
   "execution_count": 65,
   "id": "d436ef8e",
   "metadata": {},
   "outputs": [
    {
     "data": {
      "text/plain": [
       "Pipeline(steps=[('preprocessor',\n",
       "                 ColumnTransformer(remainder='passthrough',\n",
       "                                   transformers=[('num', StandardScaler(),\n",
       "                                                  ['bedRoom', 'bathroom',\n",
       "                                                   'built_up_area',\n",
       "                                                   'servant room',\n",
       "                                                   'store room']),\n",
       "                                                 ('cat', OrdinalEncoder(),\n",
       "                                                  ['property_type', 'sector',\n",
       "                                                   'balcony', 'agePossession',\n",
       "                                                   'furnishing_type',\n",
       "                                                   'luxury_category',\n",
       "                                                   'floor_category'])])),\n",
       "                ('regressor', LinearRegression())])"
      ]
     },
     "execution_count": 65,
     "metadata": {},
     "output_type": "execute_result"
    }
   ],
   "source": [
    "# fit the traning data to the pipeline \n",
    "pipeline.fit(X_train, y_train)"
   ]
  },
  {
   "cell_type": "code",
   "execution_count": 66,
   "id": "679c5f05",
   "metadata": {},
   "outputs": [],
   "source": [
    "# predict the result on the test data \n",
    "y_preds = pipeline.predict(X_test)\n",
    "\n",
    "# convert to the exponential again (as we normalize the data(price column) above)\n",
    "y_preds = np.expm1(y_preds)"
   ]
  },
  {
   "cell_type": "code",
   "execution_count": 67,
   "id": "9a6df11a",
   "metadata": {},
   "outputs": [
    {
     "data": {
      "text/plain": [
       "0.9463822160089355"
      ]
     },
     "execution_count": 67,
     "metadata": {},
     "output_type": "execute_result"
    }
   ],
   "source": [
    "# Calculate the error (MAE)\n",
    "mean_absolute_error(np.expm1(y_test), y_preds)"
   ]
  },
  {
   "cell_type": "markdown",
   "id": "2ff83e4d",
   "metadata": {},
   "source": [
    "#### Observation\n",
    "* As we are using linear regression, the encoding that we have done is ordinal encoding i.e the this technique assigns the integer value to each of the category, so the linear regressor treating these integer values by giving them order for ex. highet the integer value more the order to the particular category and thats why the error is coming to be about 94 lacks. \n",
    "* for ex. if the price of the property is 2 crores our above model will predict the price of the property as 2.94 crores.\n",
    "* We have to improve the model as this is significantly larger error value."
   ]
  },
  {
   "cell_type": "code",
   "execution_count": 68,
   "id": "6423bce0",
   "metadata": {},
   "outputs": [],
   "source": [
    "# Check for other models as well (Using Ordinal Encoding)\n",
    "# create a function to which will give the MAE score and r2_score \n",
    "\n",
    "def give_score1(model_name, model):\n",
    "    result = []\n",
    "    result.append(model_name)\n",
    "    \n",
    "    pipeline = Pipeline([\n",
    "            (\"preprocessor\", preprocessor),\n",
    "            (\"regressor\", model)\n",
    "    ])\n",
    "    \n",
    "    kfold = KFold(n_splits=10, shuffle=True, random_state=42)\n",
    "    scores = cross_val_score(pipeline, X, y_transformed, cv=kfold, scoring=\"r2\")\n",
    "    \n",
    "    # append the scores(cross_val_score) (mean value) to the result\n",
    "    result.append(scores.mean())\n",
    "    \n",
    "    # split the data into train and test sets\n",
    "    X_train, X_test, y_train, y_test = train_test_split(X,\n",
    "                                                        y_transformed, \n",
    "                                                        test_size=0.2, random_state=42)\n",
    "    \n",
    "    pipeline.fit(X_train, y_train)\n",
    "    y_preds = pipeline.predict(X_test)\n",
    "    y_preds = np.expm1(y_preds)\n",
    "    # calculate the r2 MAE \n",
    "    result.append(mean_absolute_error(np.expm1(y_test), y_preds))\n",
    "    \n",
    "    return result"
   ]
  },
  {
   "cell_type": "code",
   "execution_count": 69,
   "id": "507a6ecb",
   "metadata": {},
   "outputs": [],
   "source": [
    "models = {\n",
    "    \"linear_regression\": LinearRegression(),\n",
    "    \"svr\": SVR(),\n",
    "    \"ridge\": Ridge(),\n",
    "    \"lasso\": Lasso(),\n",
    "    \"decision tree\": DecisionTreeRegressor(),\n",
    "    \"random forest\": RandomForestRegressor(),\n",
    "    \"extra tree\": ExtraTreesRegressor(),\n",
    "    \"gradient boosting\": GradientBoostingRegressor(),\n",
    "    \"adaboost\": AdaBoostRegressor(),\n",
    "    \"xgboost\": XGBRegressor(),\n",
    "    \"mlp\": MLPRegressor()\n",
    "}"
   ]
  },
  {
   "cell_type": "code",
   "execution_count": 70,
   "id": "8b411b8c",
   "metadata": {},
   "outputs": [],
   "source": [
    "model_output = []\n",
    "for model_name, model in models.items():\n",
    "    model_output.append(give_score1(model_name, model))"
   ]
  },
  {
   "cell_type": "code",
   "execution_count": 71,
   "id": "c82b6061",
   "metadata": {},
   "outputs": [
    {
     "data": {
      "text/plain": [
       "[['linear_regression', 0.7363096633436828, 0.9463822160089355],\n",
       " ['svr', 0.7642012011196353, 0.8472636473483951],\n",
       " ['ridge', 0.7363125343993552, 0.946338774185337],\n",
       " ['lasso', 0.05943378064493573, 1.528905986892753],\n",
       " ['decision tree', 0.7690293420054966, 0.7261947547175063],\n",
       " ['random forest', 0.8809957609626086, 0.5341362925969813],\n",
       " ['extra tree', 0.8668294569963821, 0.5525688692131147],\n",
       " ['gradient boosting', 0.8724594234220306, 0.5763533095613873],\n",
       " ['adaboost', 0.7503199757879004, 0.8201034814865114],\n",
       " ['xgboost', 0.8917010012719994, 0.5113240614244203],\n",
       " ['mlp', 0.8043842375467223, 0.7142654442365062]]"
      ]
     },
     "execution_count": 71,
     "metadata": {},
     "output_type": "execute_result"
    }
   ],
   "source": [
    "model_output"
   ]
  },
  {
   "cell_type": "code",
   "execution_count": 72,
   "id": "6a792605",
   "metadata": {},
   "outputs": [
    {
     "data": {
      "text/html": [
       "<div>\n",
       "<style scoped>\n",
       "    .dataframe tbody tr th:only-of-type {\n",
       "        vertical-align: middle;\n",
       "    }\n",
       "\n",
       "    .dataframe tbody tr th {\n",
       "        vertical-align: top;\n",
       "    }\n",
       "\n",
       "    .dataframe thead th {\n",
       "        text-align: right;\n",
       "    }\n",
       "</style>\n",
       "<table border=\"1\" class=\"dataframe\">\n",
       "  <thead>\n",
       "    <tr style=\"text-align: right;\">\n",
       "      <th></th>\n",
       "      <th>name</th>\n",
       "      <th>r2</th>\n",
       "      <th>mae</th>\n",
       "    </tr>\n",
       "  </thead>\n",
       "  <tbody>\n",
       "    <tr>\n",
       "      <th>0</th>\n",
       "      <td>linear_regression</td>\n",
       "      <td>0.736310</td>\n",
       "      <td>0.946382</td>\n",
       "    </tr>\n",
       "    <tr>\n",
       "      <th>1</th>\n",
       "      <td>svr</td>\n",
       "      <td>0.764201</td>\n",
       "      <td>0.847264</td>\n",
       "    </tr>\n",
       "    <tr>\n",
       "      <th>2</th>\n",
       "      <td>ridge</td>\n",
       "      <td>0.736313</td>\n",
       "      <td>0.946339</td>\n",
       "    </tr>\n",
       "    <tr>\n",
       "      <th>3</th>\n",
       "      <td>lasso</td>\n",
       "      <td>0.059434</td>\n",
       "      <td>1.528906</td>\n",
       "    </tr>\n",
       "    <tr>\n",
       "      <th>4</th>\n",
       "      <td>decision tree</td>\n",
       "      <td>0.769029</td>\n",
       "      <td>0.726195</td>\n",
       "    </tr>\n",
       "    <tr>\n",
       "      <th>5</th>\n",
       "      <td>random forest</td>\n",
       "      <td>0.880996</td>\n",
       "      <td>0.534136</td>\n",
       "    </tr>\n",
       "    <tr>\n",
       "      <th>6</th>\n",
       "      <td>extra tree</td>\n",
       "      <td>0.866829</td>\n",
       "      <td>0.552569</td>\n",
       "    </tr>\n",
       "    <tr>\n",
       "      <th>7</th>\n",
       "      <td>gradient boosting</td>\n",
       "      <td>0.872459</td>\n",
       "      <td>0.576353</td>\n",
       "    </tr>\n",
       "    <tr>\n",
       "      <th>8</th>\n",
       "      <td>adaboost</td>\n",
       "      <td>0.750320</td>\n",
       "      <td>0.820103</td>\n",
       "    </tr>\n",
       "    <tr>\n",
       "      <th>9</th>\n",
       "      <td>xgboost</td>\n",
       "      <td>0.891701</td>\n",
       "      <td>0.511324</td>\n",
       "    </tr>\n",
       "    <tr>\n",
       "      <th>10</th>\n",
       "      <td>mlp</td>\n",
       "      <td>0.804384</td>\n",
       "      <td>0.714265</td>\n",
       "    </tr>\n",
       "  </tbody>\n",
       "</table>\n",
       "</div>"
      ],
      "text/plain": [
       "                 name        r2       mae\n",
       "0   linear_regression  0.736310  0.946382\n",
       "1                 svr  0.764201  0.847264\n",
       "2               ridge  0.736313  0.946339\n",
       "3               lasso  0.059434  1.528906\n",
       "4       decision tree  0.769029  0.726195\n",
       "5       random forest  0.880996  0.534136\n",
       "6          extra tree  0.866829  0.552569\n",
       "7   gradient boosting  0.872459  0.576353\n",
       "8            adaboost  0.750320  0.820103\n",
       "9             xgboost  0.891701  0.511324\n",
       "10                mlp  0.804384  0.714265"
      ]
     },
     "execution_count": 72,
     "metadata": {},
     "output_type": "execute_result"
    }
   ],
   "source": [
    "model_scores_df1 = pd.DataFrame(model_output, columns=['name','r2','mae'])\n",
    "model_scores_df1"
   ]
  },
  {
   "cell_type": "code",
   "execution_count": 73,
   "id": "f974bf73",
   "metadata": {},
   "outputs": [
    {
     "data": {
      "text/html": [
       "<div>\n",
       "<style scoped>\n",
       "    .dataframe tbody tr th:only-of-type {\n",
       "        vertical-align: middle;\n",
       "    }\n",
       "\n",
       "    .dataframe tbody tr th {\n",
       "        vertical-align: top;\n",
       "    }\n",
       "\n",
       "    .dataframe thead th {\n",
       "        text-align: right;\n",
       "    }\n",
       "</style>\n",
       "<table border=\"1\" class=\"dataframe\">\n",
       "  <thead>\n",
       "    <tr style=\"text-align: right;\">\n",
       "      <th></th>\n",
       "      <th>name</th>\n",
       "      <th>r2</th>\n",
       "      <th>mae</th>\n",
       "    </tr>\n",
       "  </thead>\n",
       "  <tbody>\n",
       "    <tr>\n",
       "      <th>9</th>\n",
       "      <td>xgboost</td>\n",
       "      <td>0.891701</td>\n",
       "      <td>0.511324</td>\n",
       "    </tr>\n",
       "    <tr>\n",
       "      <th>5</th>\n",
       "      <td>random forest</td>\n",
       "      <td>0.880996</td>\n",
       "      <td>0.534136</td>\n",
       "    </tr>\n",
       "    <tr>\n",
       "      <th>6</th>\n",
       "      <td>extra tree</td>\n",
       "      <td>0.866829</td>\n",
       "      <td>0.552569</td>\n",
       "    </tr>\n",
       "    <tr>\n",
       "      <th>7</th>\n",
       "      <td>gradient boosting</td>\n",
       "      <td>0.872459</td>\n",
       "      <td>0.576353</td>\n",
       "    </tr>\n",
       "    <tr>\n",
       "      <th>10</th>\n",
       "      <td>mlp</td>\n",
       "      <td>0.804384</td>\n",
       "      <td>0.714265</td>\n",
       "    </tr>\n",
       "    <tr>\n",
       "      <th>4</th>\n",
       "      <td>decision tree</td>\n",
       "      <td>0.769029</td>\n",
       "      <td>0.726195</td>\n",
       "    </tr>\n",
       "    <tr>\n",
       "      <th>8</th>\n",
       "      <td>adaboost</td>\n",
       "      <td>0.750320</td>\n",
       "      <td>0.820103</td>\n",
       "    </tr>\n",
       "    <tr>\n",
       "      <th>1</th>\n",
       "      <td>svr</td>\n",
       "      <td>0.764201</td>\n",
       "      <td>0.847264</td>\n",
       "    </tr>\n",
       "    <tr>\n",
       "      <th>2</th>\n",
       "      <td>ridge</td>\n",
       "      <td>0.736313</td>\n",
       "      <td>0.946339</td>\n",
       "    </tr>\n",
       "    <tr>\n",
       "      <th>0</th>\n",
       "      <td>linear_regression</td>\n",
       "      <td>0.736310</td>\n",
       "      <td>0.946382</td>\n",
       "    </tr>\n",
       "    <tr>\n",
       "      <th>3</th>\n",
       "      <td>lasso</td>\n",
       "      <td>0.059434</td>\n",
       "      <td>1.528906</td>\n",
       "    </tr>\n",
       "  </tbody>\n",
       "</table>\n",
       "</div>"
      ],
      "text/plain": [
       "                 name        r2       mae\n",
       "9             xgboost  0.891701  0.511324\n",
       "5       random forest  0.880996  0.534136\n",
       "6          extra tree  0.866829  0.552569\n",
       "7   gradient boosting  0.872459  0.576353\n",
       "10                mlp  0.804384  0.714265\n",
       "4       decision tree  0.769029  0.726195\n",
       "8            adaboost  0.750320  0.820103\n",
       "1                 svr  0.764201  0.847264\n",
       "2               ridge  0.736313  0.946339\n",
       "0   linear_regression  0.736310  0.946382\n",
       "3               lasso  0.059434  1.528906"
      ]
     },
     "execution_count": 73,
     "metadata": {},
     "output_type": "execute_result"
    }
   ],
   "source": [
    "model_scores_df1.sort_values([\"mae\"])"
   ]
  },
  {
   "cell_type": "markdown",
   "id": "3c2f294f",
   "metadata": {},
   "source": [
    "### One Hot Encoding "
   ]
  },
  {
   "cell_type": "code",
   "execution_count": 74,
   "id": "aae30d55",
   "metadata": {},
   "outputs": [],
   "source": [
    "# Creating the columntransformer for preprocessing \n",
    "preprocessor = ColumnTransformer(\n",
    "    transformers=[\n",
    "        (\"num\", StandardScaler(),  ['bedRoom', 'bathroom', 'built_up_area', 'servant room', 'store room']),\n",
    "        (\"cat\", OrdinalEncoder(), columns_to_encode),\n",
    "        # number of dimensions will increase in this case \n",
    "        (\"cat1\", OneHotEncoder(drop=\"first\"), ['sector','agePossession','furnishing_type'])\n",
    "    ],\n",
    "    remainder=\"passthrough\"\n",
    ")"
   ]
  },
  {
   "cell_type": "code",
   "execution_count": 75,
   "id": "d7af8d34",
   "metadata": {},
   "outputs": [],
   "source": [
    "# creating the pipeline \n",
    "pipeline = Pipeline([\n",
    "    (\"preprocessor\", preprocessor),\n",
    "    (\"regressor\", LinearRegression())\n",
    "])"
   ]
  },
  {
   "cell_type": "code",
   "execution_count": 76,
   "id": "e0af06c6",
   "metadata": {},
   "outputs": [],
   "source": [
    "kfold = KFold(n_splits=10, shuffle=True, random_state=42)\n",
    "scores = cross_val_score(pipeline, X, y_transformed, cv=kfold, scoring=\"r2\")"
   ]
  },
  {
   "cell_type": "code",
   "execution_count": 77,
   "id": "822138cc",
   "metadata": {},
   "outputs": [
    {
     "data": {
      "text/plain": [
       "(0.8546151830349675, 0.01599250037818318)"
      ]
     },
     "execution_count": 77,
     "metadata": {},
     "output_type": "execute_result"
    }
   ],
   "source": [
    "scores.mean(), scores.std()"
   ]
  },
  {
   "cell_type": "code",
   "execution_count": 78,
   "id": "ea159a10",
   "metadata": {},
   "outputs": [],
   "source": [
    "# function to get the r2_score and MAE scores of other models (Using One Hot Encoding)\n",
    "def get_score2(model_name, model):\n",
    "    result = []\n",
    "    result.append(model_name)\n",
    "    \n",
    "    pipeline = Pipeline([\n",
    "        (\"preprocessor\", preprocessor),\n",
    "        (\"regressor\", model)\n",
    "    ])\n",
    "    \n",
    "    kfold = KFold(n_splits=10, shuffle=True, random_state=42)\n",
    "    scores = cross_val_score(pipeline, X, y_transformed, cv=kfold, scoring=\"r2\")\n",
    "    \n",
    "    result.append(scores.mean())\n",
    "    \n",
    "    X_train, X_test, y_train, y_test = train_test_split(X,\n",
    "                                                        y_transformed, \n",
    "                                                        test_size=0.2, random_state=42)\n",
    "    \n",
    "    pipeline.fit(X_train, y_train)\n",
    "    y_preds = pipeline.predict(X_test)\n",
    "    y_preds = np.expm1(y_preds)\n",
    "    \n",
    "    result.append(mean_absolute_error(np.expm1(y_test), y_preds))\n",
    "    \n",
    "    return result"
   ]
  },
  {
   "cell_type": "code",
   "execution_count": 79,
   "id": "469964af",
   "metadata": {},
   "outputs": [],
   "source": [
    "models = {\n",
    "    \"linear_regression\": LinearRegression(),\n",
    "    \"svr\": SVR(),\n",
    "    \"ridge\": Ridge(),\n",
    "    \"lasso\": Lasso(),\n",
    "    \"decision tree\": DecisionTreeRegressor(),\n",
    "    \"random forest\": RandomForestRegressor(),\n",
    "    \"extra tree\": ExtraTreesRegressor(),\n",
    "    \"gradient boosting\": GradientBoostingRegressor(),\n",
    "    \"adaboost\": AdaBoostRegressor(),\n",
    "    \"xgboost\": XGBRegressor(),\n",
    "    \"mlp\": MLPRegressor()\n",
    "}"
   ]
  },
  {
   "cell_type": "code",
   "execution_count": 80,
   "id": "b08e2864",
   "metadata": {},
   "outputs": [],
   "source": [
    "model_scores = []\n",
    "for model_name, model in models.items():\n",
    "    model_scores.append(get_score2(model_name, model))"
   ]
  },
  {
   "cell_type": "code",
   "execution_count": 81,
   "id": "49271a3e",
   "metadata": {},
   "outputs": [
    {
     "data": {
      "text/html": [
       "<div>\n",
       "<style scoped>\n",
       "    .dataframe tbody tr th:only-of-type {\n",
       "        vertical-align: middle;\n",
       "    }\n",
       "\n",
       "    .dataframe tbody tr th {\n",
       "        vertical-align: top;\n",
       "    }\n",
       "\n",
       "    .dataframe thead th {\n",
       "        text-align: right;\n",
       "    }\n",
       "</style>\n",
       "<table border=\"1\" class=\"dataframe\">\n",
       "  <thead>\n",
       "    <tr style=\"text-align: right;\">\n",
       "      <th></th>\n",
       "      <th>name</th>\n",
       "      <th>r2</th>\n",
       "      <th>mae</th>\n",
       "    </tr>\n",
       "  </thead>\n",
       "  <tbody>\n",
       "    <tr>\n",
       "      <th>9</th>\n",
       "      <td>xgboost</td>\n",
       "      <td>0.891701</td>\n",
       "      <td>0.511324</td>\n",
       "    </tr>\n",
       "    <tr>\n",
       "      <th>5</th>\n",
       "      <td>random forest</td>\n",
       "      <td>0.880996</td>\n",
       "      <td>0.534136</td>\n",
       "    </tr>\n",
       "    <tr>\n",
       "      <th>6</th>\n",
       "      <td>extra tree</td>\n",
       "      <td>0.866829</td>\n",
       "      <td>0.552569</td>\n",
       "    </tr>\n",
       "    <tr>\n",
       "      <th>7</th>\n",
       "      <td>gradient boosting</td>\n",
       "      <td>0.872459</td>\n",
       "      <td>0.576353</td>\n",
       "    </tr>\n",
       "    <tr>\n",
       "      <th>10</th>\n",
       "      <td>mlp</td>\n",
       "      <td>0.804384</td>\n",
       "      <td>0.714265</td>\n",
       "    </tr>\n",
       "    <tr>\n",
       "      <th>4</th>\n",
       "      <td>decision tree</td>\n",
       "      <td>0.769029</td>\n",
       "      <td>0.726195</td>\n",
       "    </tr>\n",
       "    <tr>\n",
       "      <th>8</th>\n",
       "      <td>adaboost</td>\n",
       "      <td>0.750320</td>\n",
       "      <td>0.820103</td>\n",
       "    </tr>\n",
       "    <tr>\n",
       "      <th>1</th>\n",
       "      <td>svr</td>\n",
       "      <td>0.764201</td>\n",
       "      <td>0.847264</td>\n",
       "    </tr>\n",
       "    <tr>\n",
       "      <th>2</th>\n",
       "      <td>ridge</td>\n",
       "      <td>0.736313</td>\n",
       "      <td>0.946339</td>\n",
       "    </tr>\n",
       "    <tr>\n",
       "      <th>0</th>\n",
       "      <td>linear_regression</td>\n",
       "      <td>0.736310</td>\n",
       "      <td>0.946382</td>\n",
       "    </tr>\n",
       "    <tr>\n",
       "      <th>3</th>\n",
       "      <td>lasso</td>\n",
       "      <td>0.059434</td>\n",
       "      <td>1.528906</td>\n",
       "    </tr>\n",
       "  </tbody>\n",
       "</table>\n",
       "</div>"
      ],
      "text/plain": [
       "                 name        r2       mae\n",
       "9             xgboost  0.891701  0.511324\n",
       "5       random forest  0.880996  0.534136\n",
       "6          extra tree  0.866829  0.552569\n",
       "7   gradient boosting  0.872459  0.576353\n",
       "10                mlp  0.804384  0.714265\n",
       "4       decision tree  0.769029  0.726195\n",
       "8            adaboost  0.750320  0.820103\n",
       "1                 svr  0.764201  0.847264\n",
       "2               ridge  0.736313  0.946339\n",
       "0   linear_regression  0.736310  0.946382\n",
       "3               lasso  0.059434  1.528906"
      ]
     },
     "execution_count": 81,
     "metadata": {},
     "output_type": "execute_result"
    }
   ],
   "source": [
    "model_scores_df2 = pd.DataFrame(model_output, columns=['name','r2','mae'])\n",
    "model_scores_df2.sort_values([\"mae\"])"
   ]
  },
  {
   "cell_type": "markdown",
   "id": "6da3f5c2",
   "metadata": {},
   "source": [
    "### One Hot Encoding (using PCA)"
   ]
  },
  {
   "cell_type": "code",
   "execution_count": 82,
   "id": "0d1374d9",
   "metadata": {},
   "outputs": [],
   "source": [
    "# Creating a column transformer for preprocessing\n",
    "preprocessor = ColumnTransformer(\n",
    "    transformers=[\n",
    "        ('num', StandardScaler(), ['bedRoom', 'bathroom', 'built_up_area', 'servant room', 'store room']),\n",
    "        ('cat', OrdinalEncoder(), columns_to_encode),\n",
    "        ('cat1',OneHotEncoder(drop='first',sparse=False),['sector','agePossession'])\n",
    "    ], \n",
    "    remainder='passthrough'\n",
    ")"
   ]
  },
  {
   "cell_type": "code",
   "execution_count": 83,
   "id": "eb4c3a3b",
   "metadata": {},
   "outputs": [],
   "source": [
    "# Creating a pipeline\n",
    "pipeline = Pipeline([\n",
    "    ('preprocessor', preprocessor),\n",
    "    ('pca', PCA(n_components=0.95)),\n",
    "    ('regressor', LinearRegression())\n",
    "])"
   ]
  },
  {
   "cell_type": "code",
   "execution_count": 84,
   "id": "56a213e6",
   "metadata": {},
   "outputs": [],
   "source": [
    "# K-fold cross-validation\n",
    "kfold = KFold(n_splits=10, shuffle=True, random_state=42)\n",
    "scores = cross_val_score(pipeline, X, y_transformed, cv=kfold, scoring='r2')"
   ]
  },
  {
   "cell_type": "code",
   "execution_count": 85,
   "id": "0500507a",
   "metadata": {},
   "outputs": [
    {
     "data": {
      "text/plain": [
       "(0.06225201431451136, 0.01986059407164015)"
      ]
     },
     "execution_count": 85,
     "metadata": {},
     "output_type": "execute_result"
    }
   ],
   "source": [
    "scores.mean(), scores.std()"
   ]
  },
  {
   "cell_type": "code",
   "execution_count": 86,
   "id": "eec83121",
   "metadata": {},
   "outputs": [],
   "source": [
    "def scorer(model_name, model):\n",
    "    \n",
    "    result = []\n",
    "    \n",
    "    result.append(model_name)\n",
    "    \n",
    "    pipeline = Pipeline([\n",
    "        ('preprocessor', preprocessor),\n",
    "        ('pca', PCA(n_components=0.95)),\n",
    "        ('regressor', model)\n",
    "    ])\n",
    "    \n",
    "    # K-fold cross-validation\n",
    "    kfold = KFold(n_splits=10, shuffle=True, random_state=42)\n",
    "    scores = cross_val_score(pipeline, X, y_transformed, cv=kfold, scoring='r2')\n",
    "    \n",
    "    result.append(scores.mean())\n",
    "    \n",
    "    X_train, X_test, y_train, y_test = train_test_split(X, y_transformed, test_size=0.2, random_state=42)\n",
    "    \n",
    "    pipeline.fit(X_train,y_train)\n",
    "    \n",
    "    y_pred = pipeline.predict(X_test)\n",
    "    \n",
    "    y_pred = np.expm1(y_pred)\n",
    "    \n",
    "    result.append(mean_absolute_error(np.expm1(y_test), y_pred))\n",
    "    \n",
    "    return result"
   ]
  },
  {
   "cell_type": "code",
   "execution_count": 87,
   "id": "bdad0577",
   "metadata": {},
   "outputs": [],
   "source": [
    "models = {\n",
    "    \"linear_regression\": LinearRegression(),\n",
    "    \"svr\": SVR(),\n",
    "    \"ridge\": Ridge(),\n",
    "    \"lasso\": Lasso(),\n",
    "    \"decision tree\": DecisionTreeRegressor(),\n",
    "    \"random forest\": RandomForestRegressor(),\n",
    "    \"extra tree\": ExtraTreesRegressor(),\n",
    "    \"gradient boosting\": GradientBoostingRegressor(),\n",
    "    \"adaboost\": AdaBoostRegressor(),\n",
    "    \"xgboost\": XGBRegressor(),\n",
    "    \"mlp\": MLPRegressor()\n",
    "}"
   ]
  },
  {
   "cell_type": "code",
   "execution_count": 88,
   "id": "56e84559",
   "metadata": {},
   "outputs": [],
   "source": [
    "model_output = []\n",
    "for model_name,model in models.items():\n",
    "    model_output.append(scorer(model_name, model))"
   ]
  },
  {
   "cell_type": "code",
   "execution_count": 89,
   "id": "f6684e45",
   "metadata": {},
   "outputs": [
    {
     "data": {
      "text/plain": [
       "[['linear_regression', 0.06225201431451136, 1.5267074088549337],\n",
       " ['svr', 0.21807348496172357, 1.3611626793047285],\n",
       " ['ridge', 0.062252015161791484, 1.5267074078044667],\n",
       " ['lasso', 0.059675784467370006, 1.5287392557835464],\n",
       " ['decision tree', 0.6961824748125831, 0.7572895569516725],\n",
       " ['random forest', 0.7629111315851719, 0.6539335664318153],\n",
       " ['extra tree', 0.7397182679246979, 0.7025480450308214],\n",
       " ['gradient boosting', 0.610603787945885, 0.9879063301936336],\n",
       " ['adaboost', 0.31050419435027565, 1.419457187504457],\n",
       " ['xgboost', 0.7698872722858927, 0.679861871046859],\n",
       " ['mlp', 0.21062861955584128, 1.4305097831234863]]"
      ]
     },
     "execution_count": 89,
     "metadata": {},
     "output_type": "execute_result"
    }
   ],
   "source": [
    "model_output"
   ]
  },
  {
   "cell_type": "code",
   "execution_count": 90,
   "id": "af3e1abf",
   "metadata": {},
   "outputs": [
    {
     "data": {
      "text/html": [
       "<div>\n",
       "<style scoped>\n",
       "    .dataframe tbody tr th:only-of-type {\n",
       "        vertical-align: middle;\n",
       "    }\n",
       "\n",
       "    .dataframe tbody tr th {\n",
       "        vertical-align: top;\n",
       "    }\n",
       "\n",
       "    .dataframe thead th {\n",
       "        text-align: right;\n",
       "    }\n",
       "</style>\n",
       "<table border=\"1\" class=\"dataframe\">\n",
       "  <thead>\n",
       "    <tr style=\"text-align: right;\">\n",
       "      <th></th>\n",
       "      <th>name</th>\n",
       "      <th>r2</th>\n",
       "      <th>mae</th>\n",
       "    </tr>\n",
       "  </thead>\n",
       "  <tbody>\n",
       "    <tr>\n",
       "      <th>5</th>\n",
       "      <td>random forest</td>\n",
       "      <td>0.762911</td>\n",
       "      <td>0.653934</td>\n",
       "    </tr>\n",
       "    <tr>\n",
       "      <th>9</th>\n",
       "      <td>xgboost</td>\n",
       "      <td>0.769887</td>\n",
       "      <td>0.679862</td>\n",
       "    </tr>\n",
       "    <tr>\n",
       "      <th>6</th>\n",
       "      <td>extra tree</td>\n",
       "      <td>0.739718</td>\n",
       "      <td>0.702548</td>\n",
       "    </tr>\n",
       "    <tr>\n",
       "      <th>4</th>\n",
       "      <td>decision tree</td>\n",
       "      <td>0.696182</td>\n",
       "      <td>0.757290</td>\n",
       "    </tr>\n",
       "    <tr>\n",
       "      <th>7</th>\n",
       "      <td>gradient boosting</td>\n",
       "      <td>0.610604</td>\n",
       "      <td>0.987906</td>\n",
       "    </tr>\n",
       "    <tr>\n",
       "      <th>1</th>\n",
       "      <td>svr</td>\n",
       "      <td>0.218073</td>\n",
       "      <td>1.361163</td>\n",
       "    </tr>\n",
       "    <tr>\n",
       "      <th>8</th>\n",
       "      <td>adaboost</td>\n",
       "      <td>0.310504</td>\n",
       "      <td>1.419457</td>\n",
       "    </tr>\n",
       "    <tr>\n",
       "      <th>10</th>\n",
       "      <td>mlp</td>\n",
       "      <td>0.210629</td>\n",
       "      <td>1.430510</td>\n",
       "    </tr>\n",
       "    <tr>\n",
       "      <th>2</th>\n",
       "      <td>ridge</td>\n",
       "      <td>0.062252</td>\n",
       "      <td>1.526707</td>\n",
       "    </tr>\n",
       "    <tr>\n",
       "      <th>0</th>\n",
       "      <td>linear_regression</td>\n",
       "      <td>0.062252</td>\n",
       "      <td>1.526707</td>\n",
       "    </tr>\n",
       "    <tr>\n",
       "      <th>3</th>\n",
       "      <td>lasso</td>\n",
       "      <td>0.059676</td>\n",
       "      <td>1.528739</td>\n",
       "    </tr>\n",
       "  </tbody>\n",
       "</table>\n",
       "</div>"
      ],
      "text/plain": [
       "                 name        r2       mae\n",
       "5       random forest  0.762911  0.653934\n",
       "9             xgboost  0.769887  0.679862\n",
       "6          extra tree  0.739718  0.702548\n",
       "4       decision tree  0.696182  0.757290\n",
       "7   gradient boosting  0.610604  0.987906\n",
       "1                 svr  0.218073  1.361163\n",
       "8            adaboost  0.310504  1.419457\n",
       "10                mlp  0.210629  1.430510\n",
       "2               ridge  0.062252  1.526707\n",
       "0   linear_regression  0.062252  1.526707\n",
       "3               lasso  0.059676  1.528739"
      ]
     },
     "execution_count": 90,
     "metadata": {},
     "output_type": "execute_result"
    }
   ],
   "source": [
    "model_scores_df3 = pd.DataFrame(model_output, columns=['name','r2','mae'])\n",
    "model_scores_df3.sort_values([\"mae\"])"
   ]
  },
  {
   "cell_type": "markdown",
   "id": "573cb682",
   "metadata": {},
   "source": [
    "### Target Encoding \n",
    "* also called as mean encoding "
   ]
  },
  {
   "cell_type": "code",
   "execution_count": 91,
   "id": "497075e0",
   "metadata": {},
   "outputs": [],
   "source": [
    "import category_encoders as ce\n",
    "\n",
    "columns_to_encode = ['property_type','sector', 'balcony', 'agePossession', 'furnishing_type', 'luxury_category',\n",
    "                     'floor_category']\n",
    "\n",
    "\n",
    "preprocessor = ColumnTransformer(\n",
    "    transformers=[\n",
    "        ('num', StandardScaler(), ['bedRoom', 'bathroom', 'built_up_area', 'servant room', 'store room']),\n",
    "        ('cat', OrdinalEncoder(), columns_to_encode),\n",
    "        ('cat1',OneHotEncoder(drop='first',sparse=False),['agePossession']),\n",
    "        ('target_enc', ce.TargetEncoder(), ['sector'])\n",
    "    ]\n",
    ")"
   ]
  },
  {
   "cell_type": "code",
   "execution_count": 92,
   "id": "0149a852",
   "metadata": {},
   "outputs": [],
   "source": [
    "# Creating a pipeline\n",
    "pipeline = Pipeline([\n",
    "    ('preprocessor', preprocessor),\n",
    "    ('regressor', LinearRegression())\n",
    "])"
   ]
  },
  {
   "cell_type": "code",
   "execution_count": 93,
   "id": "596051b0",
   "metadata": {},
   "outputs": [],
   "source": [
    "# K-fold cross-validation\n",
    "kfold = KFold(n_splits=10, shuffle=True, random_state=42)\n",
    "scores = cross_val_score(pipeline, X, y_transformed, cv=kfold, scoring='r2')"
   ]
  },
  {
   "cell_type": "code",
   "execution_count": 94,
   "id": "948c0f61",
   "metadata": {},
   "outputs": [
    {
     "data": {
      "text/plain": [
       "(0.829521918225536, 0.018384463379122876)"
      ]
     },
     "execution_count": 94,
     "metadata": {},
     "output_type": "execute_result"
    }
   ],
   "source": [
    "scores.mean(),scores.std()"
   ]
  },
  {
   "cell_type": "code",
   "execution_count": 95,
   "id": "330f47dd",
   "metadata": {},
   "outputs": [],
   "source": [
    "def scorer(model_name, model):\n",
    "    \n",
    "    output = []\n",
    "    \n",
    "    output.append(model_name)\n",
    "    \n",
    "    pipeline = Pipeline([\n",
    "        ('preprocessor', preprocessor),\n",
    "        ('regressor', model)\n",
    "    ])\n",
    "    \n",
    "    # K-fold cross-validation\n",
    "    kfold = KFold(n_splits=10, shuffle=True, random_state=42)\n",
    "    scores = cross_val_score(pipeline, X, y_transformed, cv=kfold, scoring='r2')\n",
    "    \n",
    "    output.append(scores.mean())\n",
    "    \n",
    "    X_train, X_test, y_train, y_test = train_test_split(X,y_transformed,test_size=0.2,random_state=42)\n",
    "    \n",
    "    pipeline.fit(X_train,y_train)\n",
    "    \n",
    "    y_pred = pipeline.predict(X_test)\n",
    "    \n",
    "    y_pred = np.expm1(y_pred)\n",
    "    \n",
    "    output.append(mean_absolute_error(np.expm1(y_test),y_pred))\n",
    "    \n",
    "    return output"
   ]
  },
  {
   "cell_type": "code",
   "execution_count": 96,
   "id": "cdab197c",
   "metadata": {},
   "outputs": [],
   "source": [
    "model_dict = {\n",
    "    'linear_reg':LinearRegression(),\n",
    "    'svr':SVR(),\n",
    "    'ridge':Ridge(),\n",
    "    'LASSO':Lasso(),\n",
    "    'decision tree': DecisionTreeRegressor(),\n",
    "    'random forest':RandomForestRegressor(),\n",
    "    'extra trees': ExtraTreesRegressor(),\n",
    "    'gradient boosting': GradientBoostingRegressor(),\n",
    "    'adaboost': AdaBoostRegressor(),\n",
    "    'mlp': MLPRegressor(),\n",
    "    'xgboost':XGBRegressor()\n",
    "}"
   ]
  },
  {
   "cell_type": "code",
   "execution_count": 97,
   "id": "2e16e3fa",
   "metadata": {},
   "outputs": [],
   "source": [
    "model_output = []\n",
    "for model_name,model in model_dict.items():\n",
    "    model_output.append(scorer(model_name, model))"
   ]
  },
  {
   "cell_type": "code",
   "execution_count": 98,
   "id": "1606dd64",
   "metadata": {},
   "outputs": [
    {
     "data": {
      "text/plain": [
       "[['linear_reg', 0.829521918225536, 0.7130109838896391],\n",
       " ['svr', 0.7829174051174261, 0.8188507474317219],\n",
       " ['ridge', 0.8295359700269425, 0.7135228301064968],\n",
       " ['LASSO', 0.05943378064493573, 1.528905986892753],\n",
       " ['decision tree', 0.835153787783369, 0.5414629892990243],\n",
       " ['random forest', 0.9017725151980518, 0.4506988250215617],\n",
       " ['extra trees', 0.9018301190445073, 0.45657646852259665],\n",
       " ['gradient boosting', 0.8890891506862595, 0.5108715043147913],\n",
       " ['adaboost', 0.8141501872609236, 0.6698293917424857],\n",
       " ['mlp', 0.849694649212265, 0.6169847308308207],\n",
       " ['xgboost', 0.9006427855783141, 0.48340860167971467]]"
      ]
     },
     "execution_count": 98,
     "metadata": {},
     "output_type": "execute_result"
    }
   ],
   "source": [
    "model_output"
   ]
  },
  {
   "cell_type": "code",
   "execution_count": 99,
   "id": "d9ea8251",
   "metadata": {},
   "outputs": [],
   "source": [
    "model_df = pd.DataFrame(model_output, columns=['name','r2','mae'])"
   ]
  },
  {
   "cell_type": "code",
   "execution_count": 100,
   "id": "81634ca7",
   "metadata": {},
   "outputs": [
    {
     "data": {
      "text/html": [
       "<div>\n",
       "<style scoped>\n",
       "    .dataframe tbody tr th:only-of-type {\n",
       "        vertical-align: middle;\n",
       "    }\n",
       "\n",
       "    .dataframe tbody tr th {\n",
       "        vertical-align: top;\n",
       "    }\n",
       "\n",
       "    .dataframe thead th {\n",
       "        text-align: right;\n",
       "    }\n",
       "</style>\n",
       "<table border=\"1\" class=\"dataframe\">\n",
       "  <thead>\n",
       "    <tr style=\"text-align: right;\">\n",
       "      <th></th>\n",
       "      <th>name</th>\n",
       "      <th>r2</th>\n",
       "      <th>mae</th>\n",
       "    </tr>\n",
       "  </thead>\n",
       "  <tbody>\n",
       "    <tr>\n",
       "      <th>5</th>\n",
       "      <td>random forest</td>\n",
       "      <td>0.901773</td>\n",
       "      <td>0.450699</td>\n",
       "    </tr>\n",
       "    <tr>\n",
       "      <th>6</th>\n",
       "      <td>extra trees</td>\n",
       "      <td>0.901830</td>\n",
       "      <td>0.456576</td>\n",
       "    </tr>\n",
       "    <tr>\n",
       "      <th>10</th>\n",
       "      <td>xgboost</td>\n",
       "      <td>0.900643</td>\n",
       "      <td>0.483409</td>\n",
       "    </tr>\n",
       "    <tr>\n",
       "      <th>7</th>\n",
       "      <td>gradient boosting</td>\n",
       "      <td>0.889089</td>\n",
       "      <td>0.510872</td>\n",
       "    </tr>\n",
       "    <tr>\n",
       "      <th>4</th>\n",
       "      <td>decision tree</td>\n",
       "      <td>0.835154</td>\n",
       "      <td>0.541463</td>\n",
       "    </tr>\n",
       "    <tr>\n",
       "      <th>9</th>\n",
       "      <td>mlp</td>\n",
       "      <td>0.849695</td>\n",
       "      <td>0.616985</td>\n",
       "    </tr>\n",
       "    <tr>\n",
       "      <th>8</th>\n",
       "      <td>adaboost</td>\n",
       "      <td>0.814150</td>\n",
       "      <td>0.669829</td>\n",
       "    </tr>\n",
       "    <tr>\n",
       "      <th>0</th>\n",
       "      <td>linear_reg</td>\n",
       "      <td>0.829522</td>\n",
       "      <td>0.713011</td>\n",
       "    </tr>\n",
       "    <tr>\n",
       "      <th>2</th>\n",
       "      <td>ridge</td>\n",
       "      <td>0.829536</td>\n",
       "      <td>0.713523</td>\n",
       "    </tr>\n",
       "    <tr>\n",
       "      <th>1</th>\n",
       "      <td>svr</td>\n",
       "      <td>0.782917</td>\n",
       "      <td>0.818851</td>\n",
       "    </tr>\n",
       "    <tr>\n",
       "      <th>3</th>\n",
       "      <td>LASSO</td>\n",
       "      <td>0.059434</td>\n",
       "      <td>1.528906</td>\n",
       "    </tr>\n",
       "  </tbody>\n",
       "</table>\n",
       "</div>"
      ],
      "text/plain": [
       "                 name        r2       mae\n",
       "5       random forest  0.901773  0.450699\n",
       "6         extra trees  0.901830  0.456576\n",
       "10            xgboost  0.900643  0.483409\n",
       "7   gradient boosting  0.889089  0.510872\n",
       "4       decision tree  0.835154  0.541463\n",
       "9                 mlp  0.849695  0.616985\n",
       "8            adaboost  0.814150  0.669829\n",
       "0          linear_reg  0.829522  0.713011\n",
       "2               ridge  0.829536  0.713523\n",
       "1                 svr  0.782917  0.818851\n",
       "3               LASSO  0.059434  1.528906"
      ]
     },
     "execution_count": 100,
     "metadata": {},
     "output_type": "execute_result"
    }
   ],
   "source": [
    "model_df.sort_values(['mae'])"
   ]
  },
  {
   "cell_type": "markdown",
   "id": "9cbce9e5",
   "metadata": {},
   "source": [
    "### Hyperparameter Tuning"
   ]
  },
  {
   "cell_type": "code",
   "execution_count": 101,
   "id": "9ff29045",
   "metadata": {},
   "outputs": [],
   "source": [
    "from sklearn.model_selection import GridSearchCV"
   ]
  },
  {
   "cell_type": "code",
   "execution_count": 102,
   "id": "18ccfa2f",
   "metadata": {},
   "outputs": [],
   "source": [
    "param_grid = {\n",
    "    'regressor__n_estimators': [50, 100, 200, 300],\n",
    "    'regressor__max_depth': [None, 10, 20, 30],\n",
    "    'regressor__max_samples':[0.1, 0.25, 0.5, 1.0],\n",
    "    'regressor__max_features': ['auto', 'sqrt']\n",
    "}"
   ]
  },
  {
   "cell_type": "code",
   "execution_count": 103,
   "id": "1d4dc71f",
   "metadata": {},
   "outputs": [],
   "source": [
    "columns_to_encode = ['property_type','sector', 'balcony', 'agePossession', 'furnishing_type', 'luxury_category', 'floor_category']\n",
    "\n",
    "# Creating a column transformer for preprocessing\n",
    "preprocessor = ColumnTransformer(\n",
    "    transformers=[\n",
    "        ('num', StandardScaler(), ['bedRoom', 'bathroom', 'built_up_area', 'servant room', 'store room']),\n",
    "        ('cat', OrdinalEncoder(), columns_to_encode),\n",
    "        ('cat1',OneHotEncoder(drop='first',sparse=False),['agePossession']),\n",
    "        ('target_enc', ce.TargetEncoder(), ['sector'])\n",
    "    ], \n",
    "    remainder='passthrough'\n",
    ")"
   ]
  },
  {
   "cell_type": "code",
   "execution_count": 104,
   "id": "e275d25f",
   "metadata": {},
   "outputs": [],
   "source": [
    "pipeline = Pipeline([\n",
    "    ('preprocessor', preprocessor),\n",
    "    ('regressor', RandomForestRegressor())\n",
    "])"
   ]
  },
  {
   "cell_type": "code",
   "execution_count": 105,
   "id": "de855f6d",
   "metadata": {},
   "outputs": [],
   "source": [
    "kfold = KFold(n_splits=10, shuffle=True, random_state=42)"
   ]
  },
  {
   "cell_type": "code",
   "execution_count": 106,
   "id": "4fb03e7f",
   "metadata": {},
   "outputs": [],
   "source": [
    "search = GridSearchCV(pipeline, param_grid, cv=kfold, scoring='r2', n_jobs=-1, verbose=4)"
   ]
  },
  {
   "cell_type": "code",
   "execution_count": 107,
   "id": "5d33da3a",
   "metadata": {},
   "outputs": [
    {
     "name": "stdout",
     "output_type": "stream",
     "text": [
      "Fitting 10 folds for each of 128 candidates, totalling 1280 fits\n"
     ]
    },
    {
     "data": {
      "text/plain": [
       "GridSearchCV(cv=KFold(n_splits=10, random_state=42, shuffle=True),\n",
       "             estimator=Pipeline(steps=[('preprocessor',\n",
       "                                        ColumnTransformer(remainder='passthrough',\n",
       "                                                          transformers=[('num',\n",
       "                                                                         StandardScaler(),\n",
       "                                                                         ['bedRoom',\n",
       "                                                                          'bathroom',\n",
       "                                                                          'built_up_area',\n",
       "                                                                          'servant '\n",
       "                                                                          'room',\n",
       "                                                                          'store '\n",
       "                                                                          'room']),\n",
       "                                                                        ('cat',\n",
       "                                                                         OrdinalEncoder(),\n",
       "                                                                         ['property_type',\n",
       "                                                                          'sector',\n",
       "                                                                          'balcony',\n",
       "                                                                          'agePossession',\n",
       "                                                                          'furnishing_type',...\n",
       "                                                                         OneHotEncoder(drop='first',\n",
       "                                                                                       sparse=False),\n",
       "                                                                         ['agePossession']),\n",
       "                                                                        ('target_enc',\n",
       "                                                                         TargetEncoder(),\n",
       "                                                                         ['sector'])])),\n",
       "                                       ('regressor', RandomForestRegressor())]),\n",
       "             n_jobs=-1,\n",
       "             param_grid={'regressor__max_depth': [None, 10, 20, 30],\n",
       "                         'regressor__max_features': ['auto', 'sqrt'],\n",
       "                         'regressor__max_samples': [0.1, 0.25, 0.5, 1.0],\n",
       "                         'regressor__n_estimators': [50, 100, 200, 300]},\n",
       "             scoring='r2', verbose=4)"
      ]
     },
     "execution_count": 107,
     "metadata": {},
     "output_type": "execute_result"
    }
   ],
   "source": [
    "search.fit(X, y_transformed)"
   ]
  },
  {
   "cell_type": "code",
   "execution_count": 108,
   "id": "459de3bb",
   "metadata": {},
   "outputs": [],
   "source": [
    "final_pipe = search.best_estimator_"
   ]
  },
  {
   "cell_type": "code",
   "execution_count": 109,
   "id": "833ba40e",
   "metadata": {},
   "outputs": [
    {
     "data": {
      "text/plain": [
       "{'regressor__max_depth': None,\n",
       " 'regressor__max_features': 'sqrt',\n",
       " 'regressor__max_samples': 1.0,\n",
       " 'regressor__n_estimators': 200}"
      ]
     },
     "execution_count": 109,
     "metadata": {},
     "output_type": "execute_result"
    }
   ],
   "source": [
    "search.best_params_"
   ]
  },
  {
   "cell_type": "code",
   "execution_count": 110,
   "id": "07e0879b",
   "metadata": {},
   "outputs": [
    {
     "data": {
      "text/plain": [
       "0.9028958808239503"
      ]
     },
     "execution_count": 110,
     "metadata": {},
     "output_type": "execute_result"
    }
   ],
   "source": [
    "search.best_score_"
   ]
  },
  {
   "cell_type": "code",
   "execution_count": 111,
   "id": "6600473c",
   "metadata": {},
   "outputs": [
    {
     "data": {
      "text/plain": [
       "Pipeline(steps=[('preprocessor',\n",
       "                 ColumnTransformer(remainder='passthrough',\n",
       "                                   transformers=[('num', StandardScaler(),\n",
       "                                                  ['bedRoom', 'bathroom',\n",
       "                                                   'built_up_area',\n",
       "                                                   'servant room',\n",
       "                                                   'store room']),\n",
       "                                                 ('cat', OrdinalEncoder(),\n",
       "                                                  ['property_type', 'sector',\n",
       "                                                   'balcony', 'agePossession',\n",
       "                                                   'furnishing_type',\n",
       "                                                   'luxury_category',\n",
       "                                                   'floor_category']),\n",
       "                                                 ('cat1',\n",
       "                                                  OneHotEncoder(drop='first',\n",
       "                                                                sparse=False),\n",
       "                                                  ['agePossession']),\n",
       "                                                 ('target_enc', TargetEncoder(),\n",
       "                                                  ['sector'])])),\n",
       "                ('regressor',\n",
       "                 RandomForestRegressor(max_features='sqrt', max_samples=1.0,\n",
       "                                       n_estimators=200))])"
      ]
     },
     "execution_count": 111,
     "metadata": {},
     "output_type": "execute_result"
    }
   ],
   "source": [
    "final_pipe.fit(X, y_transformed)"
   ]
  },
  {
   "cell_type": "code",
   "execution_count": 157,
   "id": "e5ee6de7",
   "metadata": {},
   "outputs": [
    {
     "data": {
      "text/plain": [
       "Index(['property_type', 'sector', 'price', 'bedRoom', 'bathroom', 'balcony',\n",
       "       'agePossession', 'built_up_area', 'servant room', 'store room',\n",
       "       'furnishing_type', 'luxury_category', 'floor_category'],\n",
       "      dtype='object')"
      ]
     },
     "execution_count": 157,
     "metadata": {},
     "output_type": "execute_result"
    }
   ],
   "source": [
    "df.columns"
   ]
  },
  {
   "cell_type": "code",
   "execution_count": 158,
   "id": "bb737cdc",
   "metadata": {},
   "outputs": [
    {
     "data": {
      "text/plain": [
       "['property_type',\n",
       " 'sector',\n",
       " 'balcony',\n",
       " 'agePossession',\n",
       " 'furnishing_type',\n",
       " 'luxury_category',\n",
       " 'floor_category']"
      ]
     },
     "execution_count": 158,
     "metadata": {},
     "output_type": "execute_result"
    }
   ],
   "source": [
    "columns_to_encode"
   ]
  },
  {
   "cell_type": "markdown",
   "id": "6bab5e84",
   "metadata": {},
   "source": [
    "### Exporting the model "
   ]
  },
  {
   "cell_type": "code",
   "execution_count": 179,
   "id": "48928c84",
   "metadata": {},
   "outputs": [],
   "source": [
    "preprocessor = ColumnTransformer(\n",
    "    transformers=[\n",
    "        ('num', StandardScaler(), ['bedRoom', 'bathroom', 'built_up_area', 'servant room', 'store room']),\n",
    "        ('cat', OrdinalEncoder(), columns_to_encode),\n",
    "        ('cat1',OneHotEncoder(drop='first',sparse=False),['sector','agePossession'])\n",
    "    ], \n",
    "    remainder='passthrough'\n",
    ")"
   ]
  },
  {
   "cell_type": "code",
   "execution_count": 184,
   "id": "bbbb5a55",
   "metadata": {},
   "outputs": [],
   "source": [
    "pipeline = Pipeline([\n",
    "    ('preprocessor', preprocessor),\n",
    "    ('regressor', RandomForestRegressor(n_estimators=500))\n",
    "])"
   ]
  },
  {
   "cell_type": "code",
   "execution_count": null,
   "id": "b16d2312",
   "metadata": {},
   "outputs": [],
   "source": [
    "pipeline.fit(X, y_transformed)"
   ]
  },
  {
   "cell_type": "code",
   "execution_count": 166,
   "id": "87359feb",
   "metadata": {},
   "outputs": [],
   "source": [
    "import pickle\n",
    "\n",
    "with open('pipeline.pkl', 'wb') as file:\n",
    "    pickle.dump(pipeline, file)"
   ]
  },
  {
   "cell_type": "code",
   "execution_count": 167,
   "id": "ed2ea4be",
   "metadata": {},
   "outputs": [],
   "source": [
    "with open('df.pkl', 'wb') as file:\n",
    "    pickle.dump(X, file)"
   ]
  },
  {
   "cell_type": "code",
   "execution_count": 134,
   "id": "c22660f2",
   "metadata": {},
   "outputs": [
    {
     "data": {
      "text/html": [
       "<div>\n",
       "<style scoped>\n",
       "    .dataframe tbody tr th:only-of-type {\n",
       "        vertical-align: middle;\n",
       "    }\n",
       "\n",
       "    .dataframe tbody tr th {\n",
       "        vertical-align: top;\n",
       "    }\n",
       "\n",
       "    .dataframe thead th {\n",
       "        text-align: right;\n",
       "    }\n",
       "</style>\n",
       "<table border=\"1\" class=\"dataframe\">\n",
       "  <thead>\n",
       "    <tr style=\"text-align: right;\">\n",
       "      <th></th>\n",
       "      <th>property_type</th>\n",
       "      <th>sector</th>\n",
       "      <th>bedRoom</th>\n",
       "      <th>bathroom</th>\n",
       "      <th>balcony</th>\n",
       "      <th>agePossession</th>\n",
       "      <th>built_up_area</th>\n",
       "      <th>servant room</th>\n",
       "      <th>store room</th>\n",
       "      <th>furnishing_type</th>\n",
       "      <th>luxury_category</th>\n",
       "      <th>floor_category</th>\n",
       "    </tr>\n",
       "  </thead>\n",
       "  <tbody>\n",
       "    <tr>\n",
       "      <th>0</th>\n",
       "      <td>flat</td>\n",
       "      <td>sector 36</td>\n",
       "      <td>3.0</td>\n",
       "      <td>2.0</td>\n",
       "      <td>2</td>\n",
       "      <td>New Property</td>\n",
       "      <td>850.0</td>\n",
       "      <td>0.0</td>\n",
       "      <td>0.0</td>\n",
       "      <td>unfurnished</td>\n",
       "      <td>Low</td>\n",
       "      <td>Low Floor</td>\n",
       "    </tr>\n",
       "    <tr>\n",
       "      <th>1</th>\n",
       "      <td>flat</td>\n",
       "      <td>sector 89</td>\n",
       "      <td>2.0</td>\n",
       "      <td>2.0</td>\n",
       "      <td>2</td>\n",
       "      <td>New Property</td>\n",
       "      <td>1226.0</td>\n",
       "      <td>1.0</td>\n",
       "      <td>0.0</td>\n",
       "      <td>unfurnished</td>\n",
       "      <td>Low</td>\n",
       "      <td>Mid Floor</td>\n",
       "    </tr>\n",
       "    <tr>\n",
       "      <th>2</th>\n",
       "      <td>flat</td>\n",
       "      <td>sohna road</td>\n",
       "      <td>2.0</td>\n",
       "      <td>2.0</td>\n",
       "      <td>1</td>\n",
       "      <td>New Property</td>\n",
       "      <td>1000.0</td>\n",
       "      <td>0.0</td>\n",
       "      <td>0.0</td>\n",
       "      <td>unfurnished</td>\n",
       "      <td>Low</td>\n",
       "      <td>High Floor</td>\n",
       "    </tr>\n",
       "    <tr>\n",
       "      <th>3</th>\n",
       "      <td>flat</td>\n",
       "      <td>sector 92</td>\n",
       "      <td>3.0</td>\n",
       "      <td>4.0</td>\n",
       "      <td>3+</td>\n",
       "      <td>Relatively New</td>\n",
       "      <td>1615.0</td>\n",
       "      <td>1.0</td>\n",
       "      <td>0.0</td>\n",
       "      <td>semifurnished</td>\n",
       "      <td>High</td>\n",
       "      <td>Mid Floor</td>\n",
       "    </tr>\n",
       "    <tr>\n",
       "      <th>4</th>\n",
       "      <td>flat</td>\n",
       "      <td>sector 102</td>\n",
       "      <td>2.0</td>\n",
       "      <td>2.0</td>\n",
       "      <td>1</td>\n",
       "      <td>Relatively New</td>\n",
       "      <td>582.0</td>\n",
       "      <td>0.0</td>\n",
       "      <td>1.0</td>\n",
       "      <td>unfurnished</td>\n",
       "      <td>High</td>\n",
       "      <td>Mid Floor</td>\n",
       "    </tr>\n",
       "    <tr>\n",
       "      <th>...</th>\n",
       "      <td>...</td>\n",
       "      <td>...</td>\n",
       "      <td>...</td>\n",
       "      <td>...</td>\n",
       "      <td>...</td>\n",
       "      <td>...</td>\n",
       "      <td>...</td>\n",
       "      <td>...</td>\n",
       "      <td>...</td>\n",
       "      <td>...</td>\n",
       "      <td>...</td>\n",
       "      <td>...</td>\n",
       "    </tr>\n",
       "    <tr>\n",
       "      <th>3549</th>\n",
       "      <td>flat</td>\n",
       "      <td>sector 84</td>\n",
       "      <td>2.0</td>\n",
       "      <td>2.0</td>\n",
       "      <td>1</td>\n",
       "      <td>Relatively New</td>\n",
       "      <td>532.0</td>\n",
       "      <td>0.0</td>\n",
       "      <td>0.0</td>\n",
       "      <td>unfurnished</td>\n",
       "      <td>Medium</td>\n",
       "      <td>Mid Floor</td>\n",
       "    </tr>\n",
       "    <tr>\n",
       "      <th>3550</th>\n",
       "      <td>house</td>\n",
       "      <td>sector 109</td>\n",
       "      <td>5.0</td>\n",
       "      <td>5.0</td>\n",
       "      <td>3+</td>\n",
       "      <td>Relatively New</td>\n",
       "      <td>6228.0</td>\n",
       "      <td>1.0</td>\n",
       "      <td>1.0</td>\n",
       "      <td>unfurnished</td>\n",
       "      <td>High</td>\n",
       "      <td>Low Floor</td>\n",
       "    </tr>\n",
       "    <tr>\n",
       "      <th>3551</th>\n",
       "      <td>flat</td>\n",
       "      <td>sector 2</td>\n",
       "      <td>1.0</td>\n",
       "      <td>1.0</td>\n",
       "      <td>1</td>\n",
       "      <td>Moderately Old</td>\n",
       "      <td>665.0</td>\n",
       "      <td>0.0</td>\n",
       "      <td>0.0</td>\n",
       "      <td>semifurnished</td>\n",
       "      <td>Medium</td>\n",
       "      <td>Mid Floor</td>\n",
       "    </tr>\n",
       "    <tr>\n",
       "      <th>3552</th>\n",
       "      <td>house</td>\n",
       "      <td>sector 43</td>\n",
       "      <td>5.0</td>\n",
       "      <td>6.0</td>\n",
       "      <td>3</td>\n",
       "      <td>Moderately Old</td>\n",
       "      <td>5490.0</td>\n",
       "      <td>1.0</td>\n",
       "      <td>1.0</td>\n",
       "      <td>unfurnished</td>\n",
       "      <td>Medium</td>\n",
       "      <td>Mid Floor</td>\n",
       "    </tr>\n",
       "    <tr>\n",
       "      <th>3553</th>\n",
       "      <td>flat</td>\n",
       "      <td>sector 68</td>\n",
       "      <td>3.0</td>\n",
       "      <td>3.0</td>\n",
       "      <td>3+</td>\n",
       "      <td>Relatively New</td>\n",
       "      <td>1845.0</td>\n",
       "      <td>0.0</td>\n",
       "      <td>0.0</td>\n",
       "      <td>semifurnished</td>\n",
       "      <td>Medium</td>\n",
       "      <td>High Floor</td>\n",
       "    </tr>\n",
       "  </tbody>\n",
       "</table>\n",
       "<p>3554 rows × 12 columns</p>\n",
       "</div>"
      ],
      "text/plain": [
       "     property_type      sector  bedRoom  bathroom balcony   agePossession  \\\n",
       "0             flat   sector 36      3.0       2.0       2    New Property   \n",
       "1             flat   sector 89      2.0       2.0       2    New Property   \n",
       "2             flat  sohna road      2.0       2.0       1    New Property   \n",
       "3             flat   sector 92      3.0       4.0      3+  Relatively New   \n",
       "4             flat  sector 102      2.0       2.0       1  Relatively New   \n",
       "...            ...         ...      ...       ...     ...             ...   \n",
       "3549          flat   sector 84      2.0       2.0       1  Relatively New   \n",
       "3550         house  sector 109      5.0       5.0      3+  Relatively New   \n",
       "3551          flat    sector 2      1.0       1.0       1  Moderately Old   \n",
       "3552         house   sector 43      5.0       6.0       3  Moderately Old   \n",
       "3553          flat   sector 68      3.0       3.0      3+  Relatively New   \n",
       "\n",
       "      built_up_area  servant room  store room furnishing_type luxury_category  \\\n",
       "0             850.0           0.0         0.0     unfurnished             Low   \n",
       "1            1226.0           1.0         0.0     unfurnished             Low   \n",
       "2            1000.0           0.0         0.0     unfurnished             Low   \n",
       "3            1615.0           1.0         0.0   semifurnished            High   \n",
       "4             582.0           0.0         1.0     unfurnished            High   \n",
       "...             ...           ...         ...             ...             ...   \n",
       "3549          532.0           0.0         0.0     unfurnished          Medium   \n",
       "3550         6228.0           1.0         1.0     unfurnished            High   \n",
       "3551          665.0           0.0         0.0   semifurnished          Medium   \n",
       "3552         5490.0           1.0         1.0     unfurnished          Medium   \n",
       "3553         1845.0           0.0         0.0   semifurnished          Medium   \n",
       "\n",
       "     floor_category  \n",
       "0         Low Floor  \n",
       "1         Mid Floor  \n",
       "2        High Floor  \n",
       "3         Mid Floor  \n",
       "4         Mid Floor  \n",
       "...             ...  \n",
       "3549      Mid Floor  \n",
       "3550      Low Floor  \n",
       "3551      Mid Floor  \n",
       "3552      Mid Floor  \n",
       "3553     High Floor  \n",
       "\n",
       "[3554 rows x 12 columns]"
      ]
     },
     "execution_count": 134,
     "metadata": {},
     "output_type": "execute_result"
    }
   ],
   "source": [
    "X"
   ]
  },
  {
   "cell_type": "code",
   "execution_count": 163,
   "id": "df90e64d",
   "metadata": {},
   "outputs": [
    {
     "data": {
      "text/plain": [
       "array(['flat', 'sector 36', 3.0, 2.0, '2', 'New Property', 850.0, 0.0,\n",
       "       0.0, 'unfurnished', 'Low', 'Low Floor'], dtype=object)"
      ]
     },
     "execution_count": 163,
     "metadata": {},
     "output_type": "execute_result"
    }
   ],
   "source": [
    "X.iloc[0].values"
   ]
  },
  {
   "cell_type": "code",
   "execution_count": 164,
   "id": "8986178f",
   "metadata": {},
   "outputs": [
    {
     "data": {
      "text/html": [
       "<div>\n",
       "<style scoped>\n",
       "    .dataframe tbody tr th:only-of-type {\n",
       "        vertical-align: middle;\n",
       "    }\n",
       "\n",
       "    .dataframe tbody tr th {\n",
       "        vertical-align: top;\n",
       "    }\n",
       "\n",
       "    .dataframe thead th {\n",
       "        text-align: right;\n",
       "    }\n",
       "</style>\n",
       "<table border=\"1\" class=\"dataframe\">\n",
       "  <thead>\n",
       "    <tr style=\"text-align: right;\">\n",
       "      <th></th>\n",
       "      <th>property_type</th>\n",
       "      <th>sector</th>\n",
       "      <th>bedRoom</th>\n",
       "      <th>bathroom</th>\n",
       "      <th>balcony</th>\n",
       "      <th>agePossession</th>\n",
       "      <th>built_up_area</th>\n",
       "      <th>servant room</th>\n",
       "      <th>store room</th>\n",
       "      <th>furnishing_type</th>\n",
       "      <th>luxury_category</th>\n",
       "      <th>floor_category</th>\n",
       "    </tr>\n",
       "  </thead>\n",
       "  <tbody>\n",
       "    <tr>\n",
       "      <th>0</th>\n",
       "      <td>house</td>\n",
       "      <td>sector 102</td>\n",
       "      <td>5</td>\n",
       "      <td>3</td>\n",
       "      <td>3+</td>\n",
       "      <td>New Property</td>\n",
       "      <td>4000</td>\n",
       "      <td>0</td>\n",
       "      <td>0</td>\n",
       "      <td>unfurnished</td>\n",
       "      <td>Low</td>\n",
       "      <td>Low Floor</td>\n",
       "    </tr>\n",
       "  </tbody>\n",
       "</table>\n",
       "</div>"
      ],
      "text/plain": [
       "  property_type      sector  bedRoom  bathroom balcony agePossession  \\\n",
       "0         house  sector 102        5         3      3+  New Property   \n",
       "\n",
       "   built_up_area  servant room  store room furnishing_type luxury_category  \\\n",
       "0           4000             0           0     unfurnished             Low   \n",
       "\n",
       "  floor_category  \n",
       "0      Low Floor  "
      ]
     },
     "execution_count": 164,
     "metadata": {},
     "output_type": "execute_result"
    }
   ],
   "source": [
    "data = [['house', 'sector 102', 5, 3, '3+', 'New Property', 4000, 0, 0, 'unfurnished', 'Low', 'Low Floor']]\n",
    "columns = ['property_type', 'sector', 'bedRoom', 'bathroom', 'balcony',\n",
    "       'agePossession', 'built_up_area', 'servant room', 'store room',\n",
    "       'furnishing_type', 'luxury_category', 'floor_category']\n",
    "\n",
    "# Convert to DataFrame\n",
    "one_df = pd.DataFrame(data, columns=columns)\n",
    "\n",
    "one_df"
   ]
  },
  {
   "cell_type": "code",
   "execution_count": 165,
   "id": "10731e96",
   "metadata": {},
   "outputs": [
    {
     "data": {
      "text/plain": [
       "array([3.81439886])"
      ]
     },
     "execution_count": 165,
     "metadata": {},
     "output_type": "execute_result"
    }
   ],
   "source": [
    "np.expm1(pipeline.predict(one_df))"
   ]
  },
  {
   "cell_type": "code",
   "execution_count": null,
   "id": "6f60eead",
   "metadata": {},
   "outputs": [],
   "source": []
  },
  {
   "cell_type": "code",
   "execution_count": null,
   "id": "86931c70",
   "metadata": {},
   "outputs": [],
   "source": []
  },
  {
   "cell_type": "code",
   "execution_count": null,
   "id": "7fb4f78c",
   "metadata": {},
   "outputs": [],
   "source": []
  },
  {
   "cell_type": "code",
   "execution_count": null,
   "id": "e6b80660",
   "metadata": {},
   "outputs": [],
   "source": []
  },
  {
   "cell_type": "code",
   "execution_count": null,
   "id": "a13ac15d",
   "metadata": {},
   "outputs": [],
   "source": []
  }
 ],
 "metadata": {
  "kernelspec": {
   "display_name": "Python 3 (ipykernel)",
   "language": "python",
   "name": "python3"
  },
  "language_info": {
   "codemirror_mode": {
    "name": "ipython",
    "version": 3
   },
   "file_extension": ".py",
   "mimetype": "text/x-python",
   "name": "python",
   "nbconvert_exporter": "python",
   "pygments_lexer": "ipython3",
   "version": "3.10.4"
  }
 },
 "nbformat": 4,
 "nbformat_minor": 5
}
